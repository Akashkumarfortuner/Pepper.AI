{
 "cells": [
  {
   "cell_type": "code",
   "execution_count": 16,
   "metadata": {},
   "outputs": [
    {
     "name": "stdout",
     "output_type": "stream",
     "text": [
      "   Plant Height (m)  Stem Width (cm)  Leaf Length (cm)   Leaf Color  \\\n",
      "0              0.90             0.52              7.35  Light Green   \n",
      "1              3.00             2.80             12.02    Yellowish   \n",
      "2              1.40             0.90             13.31  Light Green   \n",
      "3              2.31             1.87             12.50   Dark Green   \n",
      "4              0.68             0.58              5.83  Light Green   \n",
      "\n",
      "   Age (years)  Yield (kg)  \n",
      "0            1        1.00  \n",
      "1           18        2.10  \n",
      "2            4        2.71  \n",
      "3            9        6.94  \n",
      "4            1        1.00  \n",
      "Age Prediction Accuracy: 95.58%\n",
      "Yield Prediction Accuracy: 84.99%\n",
      "Models and encoders saved successfully!\n",
      "\n",
      "Enter the following values:\n",
      "Predicted Age: 15.56 years\n",
      "Predicted Yield: 4.53 kg\n"
     ]
    }
   ],
   "source": [
    "import pandas as pd\n",
    "from sklearn.preprocessing import LabelEncoder, StandardScaler\n",
    "from sklearn.model_selection import train_test_split\n",
    "from sklearn.svm import SVR\n",
    "from sklearn.metrics import mean_absolute_error, mean_squared_error\n",
    "import numpy as np\n",
    "from joblib import dump\n",
    "\n",
    "# Load the dataset\n",
    "file_name = 'expanded_black_pepper_dataset.csv'\n",
    "df = pd.read_csv(file_name)\n",
    "\n",
    "# Display the first few rows\n",
    "print(df.head())\n",
    "\n",
    "# Encoding Leaf Color if it is a categorical feature\n",
    "label_encoder = LabelEncoder()\n",
    "df['Leaf Color'] = label_encoder.fit_transform(df['Leaf Color'])  # Make sure column name matches in your dataset\n",
    "\n",
    "# Define features (X) and targets (y)\n",
    "X = df[['Plant Height (m)', 'Stem Width (cm)', 'Leaf Color', 'Leaf Length (cm)']]  # Update column names\n",
    "y_age = df['Age (years)']  # Update if needed\n",
    "y_yield = df['Yield (kg)']  # Update if needed\n",
    "\n",
    "# Feature scaling (standardization)\n",
    "scaler = StandardScaler()\n",
    "X_scaled = scaler.fit_transform(X)  # Scale the features\n",
    "\n",
    "# Split data for Age prediction\n",
    "X_train_age, X_test_age, y_train_age, y_test_age = train_test_split(X_scaled, y_age, test_size=0.2, random_state=42)\n",
    "\n",
    "# Split data for Yield prediction\n",
    "X_train_yield, X_test_yield, y_train_yield, y_test_yield = train_test_split(X_scaled, y_yield, test_size=0.2, random_state=42)\n",
    "\n",
    "# Initialize and train SVR models\n",
    "svr_age = SVR(kernel='rbf', C=1, gamma=0.1)\n",
    "svr_age.fit(X_train_age, y_train_age)\n",
    "\n",
    "svr_yield = SVR(kernel='rbf', C=1, gamma=0.1)\n",
    "svr_yield.fit(X_train_yield, y_train_yield)\n",
    "\n",
    "# Predict Age and Yield\n",
    "y_pred_age = svr_age.predict(X_test_age)\n",
    "y_pred_yield = svr_yield.predict(X_test_yield)\n",
    "\n",
    "# Function to calculate accuracy\n",
    "def calculate_accuracy(y_actual, y_predicted):\n",
    "    mape = np.mean(np.abs((y_actual - y_predicted) / y_actual)) * 100\n",
    "    accuracy = 100 - mape\n",
    "    return accuracy\n",
    "\n",
    "accuracy_age = calculate_accuracy(y_test_age, y_pred_age)\n",
    "accuracy_yield = calculate_accuracy(y_test_yield, y_pred_yield)\n",
    "\n",
    "print(f\"Age Prediction Accuracy: {accuracy_age:.2f}%\")\n",
    "print(f\"Yield Prediction Accuracy: {accuracy_yield:.2f}%\")\n",
    "\n",
    "# Save models and encoders for future use\n",
    "dump(svr_age, \"svr_age_model.pkl\")\n",
    "dump(svr_yield, \"svr_yield_model.pkl\")\n",
    "dump(label_encoder, \"label_encoder.pkl\")\n",
    "dump(scaler, \"scaler.pkl\")\n",
    "\n",
    "print(\"Models and encoders saved successfully!\")\n",
    "\n",
    "# Function for predicting Age and Yield based on user input\n",
    "def predict_age_and_yield():\n",
    "    print(\"\\nEnter the following values:\")\n",
    "    plant_height = float(input(\"Plant Height (e.g., 2.5): \"))\n",
    "    stem_width = float(input(\"Stem Width (e.g., 2.0): \"))\n",
    "    leaf_length = float(input(\"Leaf Length (e.g., 15.0): \"))\n",
    "    leaf_color = input(\"Leaf Color (e.g., Green): \")\n",
    "\n",
    "    # Check if the entered Leaf Color is known\n",
    "    if leaf_color not in label_encoder.classes_:\n",
    "        print(f\"Error: Leaf Color '{leaf_color}' is not recognized. Valid options are: {list(label_encoder.classes_)}\")\n",
    "        return\n",
    "\n",
    "    # Encode Leaf Color\n",
    "    leaf_color_encoded = label_encoder.transform([leaf_color])[0]\n",
    "\n",
    "    # Prepare the input for prediction (make sure column order matches training data)\n",
    "    user_input = pd.DataFrame([{\n",
    "        'Plant Height (m)': plant_height,\n",
    "        'Stem Width (cm)': stem_width,\n",
    "        'Leaf Length (cm)': leaf_length,\n",
    "        'Leaf Color': leaf_color_encoded\n",
    "    }])\n",
    "\n",
    "    # Reorder the columns of user_input to match the original column order used for training\n",
    "    user_input = user_input[['Plant Height (m)', 'Stem Width (cm)', 'Leaf Color', 'Leaf Length (cm)']]\n",
    "\n",
    "    # Scale the user input (use the same scaler as used for training)\n",
    "    user_input_scaled = scaler.transform(user_input)\n",
    "\n",
    "    # Predict Age\n",
    "    predicted_age = svr_age.predict(user_input_scaled)\n",
    "    print(f\"Predicted Age: {predicted_age[0]:.2f} years\")\n",
    "\n",
    "    # Predict Yield\n",
    "    predicted_yield = svr_yield.predict(user_input_scaled)\n",
    "    print(f\"Predicted Yield: {predicted_yield[0]:.2f} kg\")\n",
    "\n",
    "# Test the function for prediction\n",
    "predict_age_and_yield()"
   ]
  },
  {
   "cell_type": "code",
   "execution_count": 1,
   "metadata": {},
   "outputs": [
    {
     "name": "stdout",
     "output_type": "stream",
     "text": [
      "Model saved successfully!\n",
      "Model loaded successfully: LinearRegression()\n"
     ]
    }
   ],
   "source": [
    "from sklearn.linear_model import LinearRegression\n",
    "from sklearn.model_selection import train_test_split\n",
    "from sklearn.datasets import make_regression\n",
    "\n",
    "# Generate sample data for training\n",
    "X, y = make_regression(n_samples=100, n_features=1, noise=0.1, random_state=42)\n",
    "X_train, X_test, y_train, y_test = train_test_split(X, y, test_size=0.2, random_state=42)\n",
    "\n",
    "# Train a regression model\n",
    "age_model = LinearRegression()\n",
    "age_model.fit(X_train, y_train)\n",
    "import joblib\n",
    "import os\n",
    "\n",
    "# Create the directory if it doesn't exist\n",
    "os.makedirs('models', exist_ok=True)\n",
    "\n",
    "# Save the trained model\n",
    "joblib.dump(age_model, 'models/age_prediction_model.pkl')\n",
    "print(\"Model saved successfully!\")\n",
    "loaded_model = joblib.load('models/age_prediction_model.pkl')\n",
    "print(\"Model loaded successfully:\", loaded_model)"
   ]
  },
  {
   "cell_type": "code",
   "execution_count": 13,
   "metadata": {},
   "outputs": [
    {
     "name": "stdout",
     "output_type": "stream",
     "text": [
      "Yield prediction model saved successfully!\n"
     ]
    }
   ],
   "source": [
    "from sklearn.preprocessing import OneHotEncoder\n",
    "import pandas as pd\n",
    "from sklearn.model_selection import train_test_split\n",
    "from sklearn.ensemble import RandomForestRegressor\n",
    "import joblib\n",
    "\n",
    "# Load the dataset\n",
    "data = pd.read_csv(r'C:\\Users\\HP\\OneDrive\\Desktop\\final_pepper\\expanded_black_pepper_dataset.csv')\n",
    "\n",
    "# One-Hot Encoding for 'Leaf Color'\n",
    "encoder = OneHotEncoder(sparse_output=False, drop='first')  # Use 'sparse_output' instead of 'sparse'\n",
    "leaf_color_encoded = encoder.fit_transform(data[['Leaf Color']])\n",
    "\n",
    "# Convert the encoded data back into a DataFrame\n",
    "leaf_color_encoded_df = pd.DataFrame(\n",
    "    leaf_color_encoded,\n",
    "    columns=encoder.get_feature_names_out(['Leaf Color'])\n",
    ")\n",
    "\n",
    "# Concatenate the encoded columns back to the original dataset\n",
    "data = pd.concat([data, leaf_color_encoded_df], axis=1)\n",
    "\n",
    "# Drop the original 'Leaf Color' column\n",
    "data.drop('Leaf Color', axis=1, inplace=True)\n",
    "\n",
    "# Features and target variable\n",
    "X = data[['Plant Height (m)', 'Stem Width (cm)', 'Leaf Length (cm)'] + list(leaf_color_encoded_df.columns)]\n",
    "y = data['Yield (kg)']\n",
    "\n",
    "# Train-test split\n",
    "X_train, X_test, y_train, y_test = train_test_split(X, y, test_size=0.2, random_state=42)\n",
    "\n",
    "# Train a Random Forest Regressor\n",
    "model = RandomForestRegressor(n_estimators=100, random_state=42)\n",
    "model.fit(X_train, y_train)\n",
    "\n",
    "# Save the model\n",
    "joblib.dump(model, r'C:\\Users\\HP\\OneDrive\\Desktop\\final_pepper\\models\\yield_prediction_model.pkl')\n",
    "print(\"Yield prediction model saved successfully!\")"
   ]
  },
  {
   "cell_type": "code",
   "execution_count": 14,
   "metadata": {},
   "outputs": [
    {
     "data": {
      "text/plain": [
       "['models/yield_prediction_model.pkl']"
      ]
     },
     "execution_count": 14,
     "metadata": {},
     "output_type": "execute_result"
    }
   ],
   "source": [
    "import joblib\n",
    "from sklearn.ensemble import RandomForestRegressor\n",
    "from sklearn.model_selection import train_test_split\n",
    "from sklearn.datasets import make_regression\n",
    "\n",
    "# Generate some sample data for yield prediction (you can use your actual dataset here)\n",
    "X, y = make_regression(n_samples=100, n_features=7, noise=0.1)\n",
    "\n",
    "# Train the yield model\n",
    "yield_model = RandomForestRegressor()\n",
    "yield_model.fit(X, y)\n",
    "\n",
    "# Save the yield model to disk\n",
    "joblib.dump(yield_model, 'models/yield_prediction_model.pkl')"
   ]
  },
  {
   "cell_type": "code",
   "execution_count": 15,
   "metadata": {},
   "outputs": [
    {
     "data": {
      "text/plain": [
       "['models/age_prediction_model.pkl']"
      ]
     },
     "execution_count": 15,
     "metadata": {},
     "output_type": "execute_result"
    }
   ],
   "source": [
    "import joblib\n",
    "from sklearn.ensemble import RandomForestRegressor\n",
    "from sklearn.model_selection import train_test_split\n",
    "from sklearn.datasets import make_regression\n",
    "\n",
    "# Generate some sample data\n",
    "X, y = make_regression(n_samples=100, n_features=7, noise=0.1)\n",
    "\n",
    "# Train a model\n",
    "model = RandomForestRegressor()\n",
    "model.fit(X, y)\n",
    "\n",
    "# Save the model to disk\n",
    "joblib.dump(model, 'models/age_prediction_model.pkl')"
   ]
  },
  {
   "cell_type": "code",
   "execution_count": 1,
   "metadata": {},
   "outputs": [
    {
     "name": "stdout",
     "output_type": "stream",
     "text": [
      "Models and related objects saved successfully!\n"
     ]
    }
   ],
   "source": [
    "import pandas as pd\n",
    "import numpy as np\n",
    "from sklearn.preprocessing import LabelEncoder, StandardScaler\n",
    "from sklearn.model_selection import train_test_split\n",
    "from sklearn.svm import SVR\n",
    "from sklearn.ensemble import RandomForestRegressor\n",
    "from sklearn.metrics import mean_absolute_error, mean_squared_error\n",
    "from joblib import dump\n",
    "import os\n",
    "\n",
    "# Load dataset\n",
    "file_name = r'C:\\Users\\HP\\OneDrive\\Desktop\\final_pepper\\expanded_black_pepper_dataset.csv'\n",
    "df = pd.read_csv(file_name)\n",
    "\n",
    "# Encode 'Leaf Color' (categorical variable)\n",
    "label_encoder = LabelEncoder()\n",
    "df['Leaf Color'] = label_encoder.fit_transform(df['Leaf Color'])\n",
    "\n",
    "# Features and targets\n",
    "X = df[['Plant Height (m)', 'Stem Width (cm)', 'Leaf Length (cm)', 'Leaf Color']]\n",
    "y_age = df['Age (years)']\n",
    "y_yield = df['Yield (kg)']\n",
    "\n",
    "# Scale features\n",
    "scaler = StandardScaler()\n",
    "X_scaled = scaler.fit_transform(X)\n",
    "\n",
    "# Train-test split\n",
    "X_train_age, X_test_age, y_train_age, y_test_age = train_test_split(X_scaled, y_age, test_size=0.2, random_state=42)\n",
    "X_train_yield, X_test_yield, y_train_yield, y_test_yield = train_test_split(X_scaled, y_yield, test_size=0.2, random_state=42)\n",
    "\n",
    "# Train models\n",
    "age_model = SVR(kernel='rbf', C=1, gamma=0.1)\n",
    "age_model.fit(X_train_age, y_train_age)\n",
    "\n",
    "yield_model = RandomForestRegressor(n_estimators=100, random_state=42)\n",
    "yield_model.fit(X_train_yield, y_train_yield)\n",
    "\n",
    "# Save models and encoders\n",
    "os.makedirs(r'C:\\Users\\HP\\OneDrive\\Desktop\\final_pepper\\models', exist_ok=True)\n",
    "dump(age_model, r'C:\\Users\\HP\\OneDrive\\Desktop\\final_pepper\\models\\age_prediction_model.pkl')\n",
    "dump(yield_model, r'C:\\Users\\HP\\OneDrive\\Desktop\\final_pepper\\models\\yield_prediction_model.pkl')\n",
    "dump(label_encoder, r'C:\\Users\\HP\\OneDrive\\Desktop\\final_pepper\\models\\label_encoder.pkl')\n",
    "dump(scaler, r'C:\\Users\\HP\\OneDrive\\Desktop\\final_pepper\\models\\scaler.pkl')\n",
    "\n",
    "print(\"Models and related objects saved successfully!\")"
   ]
  }
 ],
 "metadata": {
  "kernelspec": {
   "display_name": "base",
   "language": "python",
   "name": "python3"
  },
  "language_info": {
   "codemirror_mode": {
    "name": "ipython",
    "version": 3
   },
   "file_extension": ".py",
   "mimetype": "text/x-python",
   "name": "python",
   "nbconvert_exporter": "python",
   "pygments_lexer": "ipython3",
   "version": "3.12.4"
  }
 },
 "nbformat": 4,
 "nbformat_minor": 2
}
